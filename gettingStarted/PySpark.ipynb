{
 "cells": [
  {
   "cell_type": "markdown",
   "metadata": {},
   "source": [
    "## This is a notebook to start practicing with PySpark."
   ]
  },
  {
   "cell_type": "code",
   "execution_count": 1,
   "metadata": {},
   "outputs": [],
   "source": [
    "import pyspark"
   ]
  },
  {
   "cell_type": "code",
   "execution_count": 2,
   "metadata": {},
   "outputs": [],
   "source": [
    "from pyspark.sql import SparkSession"
   ]
  },
  {
   "cell_type": "code",
   "execution_count": 3,
   "metadata": {},
   "outputs": [],
   "source": [
    "# Create my session\n",
    "spark = SparkSession.builder.appName('Dataframe').getOrCreate()"
   ]
  },
  {
   "cell_type": "code",
   "execution_count": 4,
   "metadata": {
    "scrolled": true
   },
   "outputs": [
    {
     "data": {
      "text/html": [
       "\n",
       "            <div>\n",
       "                <p><b>SparkSession - in-memory</b></p>\n",
       "                \n",
       "        <div>\n",
       "            <p><b>SparkContext</b></p>\n",
       "\n",
       "            <p><a href=\"http://192.168.1.83:4040\">Spark UI</a></p>\n",
       "\n",
       "            <dl>\n",
       "              <dt>Version</dt>\n",
       "                <dd><code>v3.3.0</code></dd>\n",
       "              <dt>Master</dt>\n",
       "                <dd><code>local[*]</code></dd>\n",
       "              <dt>AppName</dt>\n",
       "                <dd><code>Dataframe</code></dd>\n",
       "            </dl>\n",
       "        </div>\n",
       "        \n",
       "            </div>\n",
       "        "
      ],
      "text/plain": [
       "<pyspark.sql.session.SparkSession at 0x2776b9ef7f0>"
      ]
     },
     "execution_count": 4,
     "metadata": {},
     "output_type": "execute_result"
    }
   ],
   "source": [
    "spark"
   ]
  },
  {
   "cell_type": "code",
   "execution_count": 5,
   "metadata": {},
   "outputs": [],
   "source": [
    "# Read the dataset\n",
    "df_pyspark = spark.read.csv('table.csv')"
   ]
  },
  {
   "cell_type": "code",
   "execution_count": 6,
   "metadata": {
    "scrolled": true
   },
   "outputs": [
    {
     "name": "stdout",
     "output_type": "stream",
     "text": [
      "+------+---+---------+\n",
      "|   _c0|_c1|      _c2|\n",
      "+------+---+---------+\n",
      "|  name|age|     city|\n",
      "| Paula| 30|   Madrid|\n",
      "|  Fran| 32|Barcelona|\n",
      "|Marina| 25| Valencia|\n",
      "+------+---+---------+\n",
      "\n"
     ]
    }
   ],
   "source": [
    "df_pyspark.show()"
   ]
  },
  {
   "cell_type": "markdown",
   "metadata": {},
   "source": [
    "We can see Spark has created a new header (c0, c1, c2) for my dataset, but I already have a header (name, age, city). \n",
    "\n",
    "Next, let's read the dataset again with the option **header=True** so it considers the first row as my header."
   ]
  },
  {
   "cell_type": "code",
   "execution_count": 7,
   "metadata": {},
   "outputs": [],
   "source": [
    "df_pyspark = spark.read.csv('table.csv', header=True)"
   ]
  },
  {
   "cell_type": "code",
   "execution_count": 8,
   "metadata": {},
   "outputs": [
    {
     "name": "stdout",
     "output_type": "stream",
     "text": [
      "+------+---+---------+\n",
      "|  name|age|     city|\n",
      "+------+---+---------+\n",
      "| Paula| 30|   Madrid|\n",
      "|  Fran| 32|Barcelona|\n",
      "|Marina| 25| Valencia|\n",
      "+------+---+---------+\n",
      "\n"
     ]
    }
   ],
   "source": [
    "df_pyspark.show()"
   ]
  },
  {
   "cell_type": "code",
   "execution_count": 9,
   "metadata": {},
   "outputs": [
    {
     "data": {
      "text/plain": [
       "pyspark.sql.dataframe.DataFrame"
      ]
     },
     "execution_count": 9,
     "metadata": {},
     "output_type": "execute_result"
    }
   ],
   "source": [
    "type(df_pyspark)"
   ]
  },
  {
   "cell_type": "code",
   "execution_count": 10,
   "metadata": {},
   "outputs": [
    {
     "data": {
      "text/plain": [
       "[Row(name='Paula', age='30', city='Madrid'),\n",
       " Row(name='Fran', age='32', city='Barcelona'),\n",
       " Row(name='Marina', age='25', city='Valencia')]"
      ]
     },
     "execution_count": 10,
     "metadata": {},
     "output_type": "execute_result"
    }
   ],
   "source": [
    "# Head of dataset\n",
    "df_pyspark.head(3)"
   ]
  },
  {
   "cell_type": "code",
   "execution_count": 11,
   "metadata": {},
   "outputs": [
    {
     "name": "stdout",
     "output_type": "stream",
     "text": [
      "root\n",
      " |-- name: string (nullable = true)\n",
      " |-- age: string (nullable = true)\n",
      " |-- city: string (nullable = true)\n",
      "\n"
     ]
    }
   ],
   "source": [
    "# Check the schema (data types)\n",
    "df_pyspark.printSchema()"
   ]
  },
  {
   "cell_type": "markdown",
   "metadata": {},
   "source": [
    "By default, it has read all features' types as strings. Let's fix this by reading the csv file again but now using the option **inferSchema=True**."
   ]
  },
  {
   "cell_type": "code",
   "execution_count": 12,
   "metadata": {},
   "outputs": [],
   "source": [
    "df_pyspark = spark.read.csv('table.csv', header=True, inferSchema=True)"
   ]
  },
  {
   "cell_type": "code",
   "execution_count": 13,
   "metadata": {},
   "outputs": [
    {
     "name": "stdout",
     "output_type": "stream",
     "text": [
      "root\n",
      " |-- name: string (nullable = true)\n",
      " |-- age: integer (nullable = true)\n",
      " |-- city: string (nullable = true)\n",
      "\n"
     ]
    }
   ],
   "source": [
    "# Check the schema (data types)\n",
    "df_pyspark.printSchema()"
   ]
  },
  {
   "cell_type": "markdown",
   "metadata": {},
   "source": [
    "Now we can see age has been read as integer type."
   ]
  },
  {
   "cell_type": "code",
   "execution_count": 14,
   "metadata": {},
   "outputs": [
    {
     "data": {
      "text/plain": [
       "['name', 'age', 'city']"
      ]
     },
     "execution_count": 14,
     "metadata": {},
     "output_type": "execute_result"
    }
   ],
   "source": [
    "# Columns\n",
    "df_pyspark.columns"
   ]
  },
  {
   "cell_type": "code",
   "execution_count": 15,
   "metadata": {},
   "outputs": [
    {
     "data": {
      "text/plain": [
       "DataFrame[name: string]"
      ]
     },
     "execution_count": 15,
     "metadata": {},
     "output_type": "execute_result"
    }
   ],
   "source": [
    "# Select a column\n",
    "df_pyspark.select('name')"
   ]
  },
  {
   "cell_type": "code",
   "execution_count": 16,
   "metadata": {
    "scrolled": true
   },
   "outputs": [
    {
     "name": "stdout",
     "output_type": "stream",
     "text": [
      "+------+\n",
      "|  name|\n",
      "+------+\n",
      "| Paula|\n",
      "|  Fran|\n",
      "|Marina|\n",
      "+------+\n",
      "\n"
     ]
    }
   ],
   "source": [
    "# Visualise the column\n",
    "df_pyspark.select('name').show()"
   ]
  },
  {
   "cell_type": "code",
   "execution_count": 17,
   "metadata": {
    "scrolled": true
   },
   "outputs": [
    {
     "name": "stdout",
     "output_type": "stream",
     "text": [
      "+------+---------+\n",
      "|  name|     city|\n",
      "+------+---------+\n",
      "| Paula|   Madrid|\n",
      "|  Fran|Barcelona|\n",
      "|Marina| Valencia|\n",
      "+------+---------+\n",
      "\n"
     ]
    }
   ],
   "source": [
    "# Visualise multiple columns\n",
    "df_pyspark.select('name','city').show()"
   ]
  },
  {
   "cell_type": "code",
   "execution_count": 18,
   "metadata": {},
   "outputs": [
    {
     "data": {
      "text/plain": [
       "[('name', 'string'), ('age', 'int'), ('city', 'string')]"
      ]
     },
     "execution_count": 18,
     "metadata": {},
     "output_type": "execute_result"
    }
   ],
   "source": [
    "# Check the data types\n",
    "df_pyspark.dtypes"
   ]
  },
  {
   "cell_type": "code",
   "execution_count": 19,
   "metadata": {},
   "outputs": [
    {
     "name": "stdout",
     "output_type": "stream",
     "text": [
      "+-------+-----+-----------------+---------+\n",
      "|summary| name|              age|     city|\n",
      "+-------+-----+-----------------+---------+\n",
      "|  count|    3|                3|        3|\n",
      "|   mean| null|             29.0|     null|\n",
      "| stddev| null|3.605551275463989|     null|\n",
      "|    min| Fran|               25|Barcelona|\n",
      "|    max|Paula|               32| Valencia|\n",
      "+-------+-----+-----------------+---------+\n",
      "\n"
     ]
    }
   ],
   "source": [
    "# Describe function\n",
    "df_pyspark.describe().show()"
   ]
  },
  {
   "cell_type": "markdown",
   "metadata": {},
   "source": [
    "## Adding, dropping and renaming columns"
   ]
  },
  {
   "cell_type": "code",
   "execution_count": 20,
   "metadata": {},
   "outputs": [],
   "source": [
    "# Add a column\n",
    "add_df_pyspark = df_pyspark.withColumn('age in 2 years', df_pyspark['age'] + 2)"
   ]
  },
  {
   "cell_type": "code",
   "execution_count": 21,
   "metadata": {},
   "outputs": [
    {
     "name": "stdout",
     "output_type": "stream",
     "text": [
      "+------+---+---------+--------------+\n",
      "|  name|age|     city|age in 2 years|\n",
      "+------+---+---------+--------------+\n",
      "| Paula| 30|   Madrid|            32|\n",
      "|  Fran| 32|Barcelona|            34|\n",
      "|Marina| 25| Valencia|            27|\n",
      "+------+---+---------+--------------+\n",
      "\n"
     ]
    }
   ],
   "source": [
    "add_df_pyspark.show()"
   ]
  },
  {
   "cell_type": "code",
   "execution_count": 22,
   "metadata": {
    "scrolled": true
   },
   "outputs": [
    {
     "name": "stdout",
     "output_type": "stream",
     "text": [
      "+------+---+--------------+\n",
      "|  name|age|age in 2 years|\n",
      "+------+---+--------------+\n",
      "| Paula| 30|            32|\n",
      "|  Fran| 32|            34|\n",
      "|Marina| 25|            27|\n",
      "+------+---+--------------+\n",
      "\n"
     ]
    }
   ],
   "source": [
    "# Drop a column\n",
    "drop_df_pyspark = add_df_pyspark.drop('city')\n",
    "drop_df_pyspark.show()"
   ]
  },
  {
   "cell_type": "code",
   "execution_count": 23,
   "metadata": {
    "scrolled": true
   },
   "outputs": [
    {
     "name": "stdout",
     "output_type": "stream",
     "text": [
      "+--------+---+---------+\n",
      "|New Name|age|     city|\n",
      "+--------+---+---------+\n",
      "|   Paula| 30|   Madrid|\n",
      "|    Fran| 32|Barcelona|\n",
      "|  Marina| 25| Valencia|\n",
      "+--------+---+---------+\n",
      "\n"
     ]
    }
   ],
   "source": [
    "# Rename the columns\n",
    "df_pyspark.withColumnRenamed('name', 'New Name').show()"
   ]
  },
  {
   "cell_type": "markdown",
   "metadata": {},
   "source": [
    "## Handling missing values"
   ]
  },
  {
   "cell_type": "code",
   "execution_count": 71,
   "metadata": {},
   "outputs": [],
   "source": [
    "# Read the dataset\n",
    "missing = spark.read.csv('missing_values.csv', header=True, inferSchema=True)"
   ]
  },
  {
   "cell_type": "code",
   "execution_count": 72,
   "metadata": {},
   "outputs": [
    {
     "name": "stdout",
     "output_type": "stream",
     "text": [
      "+-----+----+------+----------+\n",
      "| name| age|  city|experience|\n",
      "+-----+----+------+----------+\n",
      "|Paula|  30|Madrid|         5|\n",
      "| Toni|  35|  Roma|         1|\n",
      "| Fran|  40|  null|      null|\n",
      "| Erea|null|  null|      null|\n",
      "| null|null|  null|      null|\n",
      "+-----+----+------+----------+\n",
      "\n"
     ]
    }
   ],
   "source": [
    "# Visualise dataset with null values\n",
    "missing.show()"
   ]
  },
  {
   "cell_type": "markdown",
   "metadata": {},
   "source": [
    "## Dropping missing values"
   ]
  },
  {
   "cell_type": "code",
   "execution_count": 73,
   "metadata": {
    "scrolled": true
   },
   "outputs": [
    {
     "name": "stdout",
     "output_type": "stream",
     "text": [
      "+-----+---+------+----------+\n",
      "| name|age|  city|experience|\n",
      "+-----+---+------+----------+\n",
      "|Paula| 30|Madrid|         5|\n",
      "| Toni| 35|  Roma|         1|\n",
      "+-----+---+------+----------+\n",
      "\n"
     ]
    }
   ],
   "source": [
    "# Drop rows with at least 1 null value\n",
    "missing.na.drop().show()"
   ]
  },
  {
   "cell_type": "code",
   "execution_count": 74,
   "metadata": {},
   "outputs": [
    {
     "name": "stdout",
     "output_type": "stream",
     "text": [
      "+-----+----+------+----------+\n",
      "| name| age|  city|experience|\n",
      "+-----+----+------+----------+\n",
      "|Paula|  30|Madrid|         5|\n",
      "| Toni|  35|  Roma|         1|\n",
      "| Fran|  40|  null|      null|\n",
      "| Erea|null|  null|      null|\n",
      "+-----+----+------+----------+\n",
      "\n"
     ]
    }
   ],
   "source": [
    "# Drop rows where all values are null\n",
    "missing.na.drop(how='all').show()"
   ]
  },
  {
   "cell_type": "code",
   "execution_count": 75,
   "metadata": {},
   "outputs": [
    {
     "name": "stdout",
     "output_type": "stream",
     "text": [
      "Original\n",
      "+-----+----+------+----------+\n",
      "| name| age|  city|experience|\n",
      "+-----+----+------+----------+\n",
      "|Paula|  30|Madrid|         5|\n",
      "| Toni|  35|  Roma|         1|\n",
      "| Fran|  40|  null|      null|\n",
      "| Erea|null|  null|      null|\n",
      "| null|null|  null|      null|\n",
      "+-----+----+------+----------+\n",
      "\n",
      "After threshold dropping\n",
      "+-----+---+------+----------+\n",
      "| name|age|  city|experience|\n",
      "+-----+---+------+----------+\n",
      "|Paula| 30|Madrid|         5|\n",
      "| Toni| 35|  Roma|         1|\n",
      "| Fran| 40|  null|      null|\n",
      "+-----+---+------+----------+\n",
      "\n"
     ]
    }
   ],
   "source": [
    "# Drop rows that have less than 'thresh' non-null values, so\n",
    "# 'thresh' is the minimum non-null values we want in a row\n",
    "print('Original')\n",
    "missing.show()\n",
    "print('After threshold dropping')\n",
    "missing.na.drop(thresh=2).show()"
   ]
  },
  {
   "cell_type": "code",
   "execution_count": 76,
   "metadata": {},
   "outputs": [
    {
     "name": "stdout",
     "output_type": "stream",
     "text": [
      "Original\n",
      "+-----+----+------+----------+\n",
      "| name| age|  city|experience|\n",
      "+-----+----+------+----------+\n",
      "|Paula|  30|Madrid|         5|\n",
      "| Toni|  35|  Roma|         1|\n",
      "| Fran|  40|  null|      null|\n",
      "| Erea|null|  null|      null|\n",
      "| null|null|  null|      null|\n",
      "+-----+----+------+----------+\n",
      "\n",
      "After subset dropping\n",
      "+-----+----+------+----------+\n",
      "| name| age|  city|experience|\n",
      "+-----+----+------+----------+\n",
      "|Paula|  30|Madrid|         5|\n",
      "| Toni|  35|  Roma|         1|\n",
      "| Fran|  40|  null|      null|\n",
      "| Erea|null|  null|      null|\n",
      "+-----+----+------+----------+\n",
      "\n"
     ]
    }
   ],
   "source": [
    "# Drop rows with null values only on a specific subset (column)\n",
    "print('Original')\n",
    "missing.show()\n",
    "print('After subset dropping')\n",
    "missing.na.drop(subset='name').show()"
   ]
  },
  {
   "cell_type": "markdown",
   "metadata": {},
   "source": [
    "## Filling missing values"
   ]
  },
  {
   "cell_type": "code",
   "execution_count": 77,
   "metadata": {},
   "outputs": [
    {
     "name": "stdout",
     "output_type": "stream",
     "text": [
      "+-----+----+------------+----------+\n",
      "| name| age|        city|experience|\n",
      "+-----+----+------------+----------+\n",
      "|Paula|  30|      Madrid|         5|\n",
      "| Toni|  35|        Roma|         1|\n",
      "| Fran|  40|Missing city|      null|\n",
      "| Erea|null|Missing city|      null|\n",
      "| null|null|Missing city|      null|\n",
      "+-----+----+------------+----------+\n",
      "\n"
     ]
    }
   ],
   "source": [
    "# Fill missing values of a specific column\n",
    "missing.na.fill('Missing city', 'city').show()"
   ]
  },
  {
   "cell_type": "code",
   "execution_count": 78,
   "metadata": {},
   "outputs": [],
   "source": [
    "# Prepare imputation columns using Imputer according to a strategy (mean, in this case)\n",
    "from pyspark.ml.feature import Imputer\n",
    "\n",
    "imputer = Imputer(inputCols = ['age', 'experience'],\n",
    "                  outputCols = ['{}_imputed'.format(c) for c in ['age', 'experience']]).setStrategy('mean')"
   ]
  },
  {
   "cell_type": "code",
   "execution_count": 79,
   "metadata": {},
   "outputs": [
    {
     "name": "stdout",
     "output_type": "stream",
     "text": [
      "Original dataset\n",
      "+-----+----+------+----------+\n",
      "| name| age|  city|experience|\n",
      "+-----+----+------+----------+\n",
      "|Paula|  30|Madrid|         5|\n",
      "| Toni|  35|  Roma|         1|\n",
      "| Fran|  40|  null|      null|\n",
      "| Erea|null|  null|      null|\n",
      "| null|null|  null|      null|\n",
      "+-----+----+------+----------+\n",
      "\n",
      "After adding imputed columns\n",
      "+-----+----+------+----------+-----------+------------------+\n",
      "| name| age|  city|experience|age_imputed|experience_imputed|\n",
      "+-----+----+------+----------+-----------+------------------+\n",
      "|Paula|  30|Madrid|         5|         30|                 5|\n",
      "| Toni|  35|  Roma|         1|         35|                 1|\n",
      "| Fran|  40|  null|      null|         40|                 3|\n",
      "| Erea|null|  null|      null|         35|                 3|\n",
      "| null|null|  null|      null|         35|                 3|\n",
      "+-----+----+------+----------+-----------+------------------+\n",
      "\n"
     ]
    }
   ],
   "source": [
    "# Dataset with missing values\n",
    "print('Original dataset')\n",
    "missing.show()\n",
    "# Add imputed columns\n",
    "print('After adding imputed columns')\n",
    "imputer.fit(missing).transform(missing).show()"
   ]
  },
  {
   "cell_type": "markdown",
   "metadata": {},
   "source": [
    "## Filter operations"
   ]
  },
  {
   "cell_type": "code",
   "execution_count": 91,
   "metadata": {},
   "outputs": [],
   "source": [
    "employee = spark.read.csv('employee.csv', header=True, inferSchema=True)"
   ]
  },
  {
   "cell_type": "code",
   "execution_count": 92,
   "metadata": {},
   "outputs": [
    {
     "name": "stdout",
     "output_type": "stream",
     "text": [
      "+------+---+----------+------+\n",
      "|  name|age|experience|salary|\n",
      "+------+---+----------+------+\n",
      "| Paula| 30|        10| 30000|\n",
      "|  Fran| 32|         8| 25000|\n",
      "|Sandra| 55|         4| 20000|\n",
      "|Carlos| 24|         3| 20000|\n",
      "|  Alma| 21|         1| 15000|\n",
      "| Bruno| 40|         2| 10000|\n",
      "+------+---+----------+------+\n",
      "\n"
     ]
    }
   ],
   "source": [
    "# Show the dataset\n",
    "employee.show()"
   ]
  },
  {
   "cell_type": "code",
   "execution_count": 93,
   "metadata": {},
   "outputs": [
    {
     "name": "stdout",
     "output_type": "stream",
     "text": [
      "+------+---+----------+------+\n",
      "|  name|age|experience|salary|\n",
      "+------+---+----------+------+\n",
      "|Sandra| 55|         4| 20000|\n",
      "|Carlos| 24|         3| 20000|\n",
      "|  Alma| 21|         1| 15000|\n",
      "| Bruno| 40|         2| 10000|\n",
      "+------+---+----------+------+\n",
      "\n"
     ]
    }
   ],
   "source": [
    "# Find salaries less than or equal to 20000\n",
    "employee.filter('Salary <= 20000').show()"
   ]
  },
  {
   "cell_type": "code",
   "execution_count": 94,
   "metadata": {},
   "outputs": [
    {
     "name": "stdout",
     "output_type": "stream",
     "text": [
      "+------+------+\n",
      "|  name|salary|\n",
      "+------+------+\n",
      "|Sandra| 20000|\n",
      "|Carlos| 20000|\n",
      "|  Alma| 15000|\n",
      "| Bruno| 10000|\n",
      "+------+------+\n",
      "\n"
     ]
    }
   ],
   "source": [
    "# Find salaries less than or equal to 20000\n",
    "# and show only name and salary columns\n",
    "employee.filter('Salary <= 20000').select(['name', 'salary']).show()"
   ]
  },
  {
   "cell_type": "code",
   "execution_count": 95,
   "metadata": {},
   "outputs": [
    {
     "name": "stdout",
     "output_type": "stream",
     "text": [
      "+------+---+----------+------+\n",
      "|  name|age|experience|salary|\n",
      "+------+---+----------+------+\n",
      "|Carlos| 24|         3| 20000|\n",
      "|  Alma| 21|         1| 15000|\n",
      "+------+---+----------+------+\n",
      "\n"
     ]
    }
   ],
   "source": [
    "# Find salaries less than or equal to 20000\n",
    "# and age less than 35\n",
    "employee.filter((employee['salary'] <= 20000) & \n",
    "                (employee['age'] < 35)).show()"
   ]
  },
  {
   "cell_type": "code",
   "execution_count": 96,
   "metadata": {},
   "outputs": [
    {
     "name": "stdout",
     "output_type": "stream",
     "text": [
      "Original dataset\n",
      "+------+---+----------+------+\n",
      "|  name|age|experience|salary|\n",
      "+------+---+----------+------+\n",
      "| Paula| 30|        10| 30000|\n",
      "|  Fran| 32|         8| 25000|\n",
      "|Sandra| 55|         4| 20000|\n",
      "|Carlos| 24|         3| 20000|\n",
      "|  Alma| 21|         1| 15000|\n",
      "| Bruno| 40|         2| 10000|\n",
      "+------+---+----------+------+\n",
      "\n",
      "Filtered dataset\n",
      "+------+---+----------+------+\n",
      "|  name|age|experience|salary|\n",
      "+------+---+----------+------+\n",
      "| Paula| 30|        10| 30000|\n",
      "|  Fran| 32|         8| 25000|\n",
      "|Sandra| 55|         4| 20000|\n",
      "| Bruno| 40|         2| 10000|\n",
      "+------+---+----------+------+\n",
      "\n"
     ]
    }
   ],
   "source": [
    "# Find employees over 30 years old\n",
    "# or with experience over 5\n",
    "print('Original dataset')\n",
    "employee.show()\n",
    "print('Filtered dataset')\n",
    "employee.filter((employee['age'] > 30) | \n",
    "                (employee['experience'] > 5)).show()"
   ]
  },
  {
   "cell_type": "code",
   "execution_count": 97,
   "metadata": {
    "scrolled": true
   },
   "outputs": [
    {
     "name": "stdout",
     "output_type": "stream",
     "text": [
      "+------+---+----------+------+\n",
      "|  name|age|experience|salary|\n",
      "+------+---+----------+------+\n",
      "|  Fran| 32|         8| 25000|\n",
      "|Sandra| 55|         4| 20000|\n",
      "|Carlos| 24|         3| 20000|\n",
      "|  Alma| 21|         1| 15000|\n",
      "| Bruno| 40|         2| 10000|\n",
      "+------+---+----------+------+\n",
      "\n"
     ]
    }
   ],
   "source": [
    "# Find employees that are not named Paula\n",
    "employee.filter(~(employee['name'] == 'Paula')).show()"
   ]
  },
  {
   "cell_type": "markdown",
   "metadata": {},
   "source": [
    "## Aggregate and GroupBy Functions"
   ]
  },
  {
   "cell_type": "code",
   "execution_count": 101,
   "metadata": {},
   "outputs": [],
   "source": [
    "# Read the dataset\n",
    "company = spark.read.csv('company.csv', header=True, inferSchema=True)"
   ]
  },
  {
   "cell_type": "code",
   "execution_count": 105,
   "metadata": {},
   "outputs": [
    {
     "name": "stdout",
     "output_type": "stream",
     "text": [
      "+------+---------------+------+\n",
      "|  name|     department|salary|\n",
      "+------+---------------+------+\n",
      "| Paula|   Data Science| 10000|\n",
      "|  Fran|       Big Data|  5000|\n",
      "|Sandra|    Development|  4000|\n",
      "|Carlos|       Big Data| 20000|\n",
      "|  Alma|   Data Science| 15000|\n",
      "| Bruno|Human Resources| 10000|\n",
      "+------+---------------+------+\n",
      "\n"
     ]
    }
   ],
   "source": [
    "# Show dataset\n",
    "company.show()"
   ]
  },
  {
   "cell_type": "code",
   "execution_count": 111,
   "metadata": {
    "scrolled": true
   },
   "outputs": [
    {
     "name": "stdout",
     "output_type": "stream",
     "text": [
      "+---------------+-----------+\n",
      "|     department|sum(salary)|\n",
      "+---------------+-----------+\n",
      "|       Big Data|      25000|\n",
      "|    Development|       4000|\n",
      "|   Data Science|      25000|\n",
      "|Human Resources|      10000|\n",
      "+---------------+-----------+\n",
      "\n"
     ]
    }
   ],
   "source": [
    "# Group dataset by department with sum of salaries\n",
    "company.groupBy('department').sum().show()"
   ]
  },
  {
   "cell_type": "code",
   "execution_count": 118,
   "metadata": {},
   "outputs": [
    {
     "name": "stdout",
     "output_type": "stream",
     "text": [
      "Original dataset\n",
      "+------+---------------+------+\n",
      "|  name|     department|salary|\n",
      "+------+---------------+------+\n",
      "| Paula|   Data Science| 10000|\n",
      "|  Fran|       Big Data|  5000|\n",
      "|Sandra|    Development|  4000|\n",
      "|Carlos|       Big Data| 20000|\n",
      "|  Alma|   Data Science| 15000|\n",
      "| Bruno|Human Resources| 10000|\n",
      "+------+---------------+------+\n",
      "\n",
      "Grouped dataset\n",
      "+---------------+-----------+\n",
      "|     department|max(salary)|\n",
      "+---------------+-----------+\n",
      "|       Big Data|      20000|\n",
      "|    Development|       4000|\n",
      "|   Data Science|      15000|\n",
      "|Human Resources|      10000|\n",
      "+---------------+-----------+\n",
      "\n"
     ]
    }
   ],
   "source": [
    "# Group dataset by department with maximum salary\n",
    "print('Original dataset')\n",
    "company.show()\n",
    "print('Grouped dataset')\n",
    "company.groupBy('department').max().show()"
   ]
  },
  {
   "cell_type": "code",
   "execution_count": 121,
   "metadata": {},
   "outputs": [
    {
     "name": "stdout",
     "output_type": "stream",
     "text": [
      "+---------------+-----+\n",
      "|     department|count|\n",
      "+---------------+-----+\n",
      "|       Big Data|    2|\n",
      "|    Development|    1|\n",
      "|   Data Science|    2|\n",
      "|Human Resources|    1|\n",
      "+---------------+-----+\n",
      "\n"
     ]
    }
   ],
   "source": [
    "# Find the number of employees in each department\n",
    "company.groupBy('department').count().show()"
   ]
  },
  {
   "cell_type": "code",
   "execution_count": 143,
   "metadata": {},
   "outputs": [
    {
     "name": "stdout",
     "output_type": "stream",
     "text": [
      "+-----------+\n",
      "|sum(salary)|\n",
      "+-----------+\n",
      "|      64000|\n",
      "+-----------+\n",
      "\n"
     ]
    }
   ],
   "source": [
    "# Find sum of all salaries\n",
    "company.agg({'salary':'sum'}).show()"
   ]
  },
  {
   "cell_type": "code",
   "execution_count": 133,
   "metadata": {},
   "outputs": [
    {
     "name": "stdout",
     "output_type": "stream",
     "text": [
      "+-----------------+\n",
      "|count(department)|\n",
      "+-----------------+\n",
      "|                4|\n",
      "+-----------------+\n",
      "\n"
     ]
    }
   ],
   "source": [
    "# Find number of distinct departments\n",
    "from pyspark.sql.functions import countDistinct\n",
    "company.agg(countDistinct('department')).show()"
   ]
  },
  {
   "cell_type": "code",
   "execution_count": null,
   "metadata": {},
   "outputs": [],
   "source": []
  }
 ],
 "metadata": {
  "kernelspec": {
   "display_name": "Python 3",
   "language": "python",
   "name": "python3"
  },
  "language_info": {
   "codemirror_mode": {
    "name": "ipython",
    "version": 3
   },
   "file_extension": ".py",
   "mimetype": "text/x-python",
   "name": "python",
   "nbconvert_exporter": "python",
   "pygments_lexer": "ipython3",
   "version": "3.8.5"
  }
 },
 "nbformat": 4,
 "nbformat_minor": 4
}
